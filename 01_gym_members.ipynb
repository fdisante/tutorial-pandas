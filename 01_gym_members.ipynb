{
 "cells": [
  {
   "cell_type": "markdown",
   "id": "e6b3c184-c2b8-47aa-a50a-adb6a05236c9",
   "metadata": {},
   "source": [
    "## Explore the dataset"
   ]
  },
  {
   "cell_type": "markdown",
   "id": "37303786-d853-4cfe-8f3e-dd65c98acb0d",
   "metadata": {},
   "source": [
    "Import Pandas package"
   ]
  },
  {
   "cell_type": "code",
   "execution_count": null,
   "id": "07291a50-2407-439b-8989-2ef24df0b4a6",
   "metadata": {},
   "outputs": [],
   "source": [
    "import pandas as pd"
   ]
  },
  {
   "cell_type": "code",
   "execution_count": null,
   "id": "58fe2101-f64b-4a77-bb6f-b4359d214acc",
   "metadata": {},
   "outputs": [],
   "source": [
    "gym = pd.read_csv('data/gym_members_exercise_tracking.csv')"
   ]
  },
  {
   "cell_type": "code",
   "execution_count": null,
   "id": "892db184-cb10-4d7d-b2a0-c17b341249b7",
   "metadata": {
    "scrolled": true
   },
   "outputs": [],
   "source": [
    "gym.head(5)"
   ]
  },
  {
   "cell_type": "code",
   "execution_count": null,
   "id": "eaf4f9b3-b8e0-4be1-a9e8-078a8ccd9eab",
   "metadata": {},
   "outputs": [],
   "source": [
    "gym.info()"
   ]
  },
  {
   "cell_type": "code",
   "execution_count": null,
   "id": "f25b0f9c-656f-4907-ac35-eed7a61c7c08",
   "metadata": {},
   "outputs": [],
   "source": [
    "gym.shape"
   ]
  },
  {
   "cell_type": "code",
   "execution_count": null,
   "id": "cac9a83d-43ce-4297-a331-a4d34e420c52",
   "metadata": {},
   "outputs": [],
   "source": [
    "gym.values"
   ]
  },
  {
   "cell_type": "code",
   "execution_count": null,
   "id": "10dbbd58-1652-4806-a1f9-0da9aa151a5f",
   "metadata": {},
   "outputs": [],
   "source": [
    "gym.columns"
   ]
  },
  {
   "cell_type": "code",
   "execution_count": null,
   "id": "1781da70-1293-49e5-9a6b-8a48f17c1d4e",
   "metadata": {},
   "outputs": [],
   "source": [
    "gym.index"
   ]
  },
  {
   "cell_type": "code",
   "execution_count": null,
   "id": "918c6213-5cbf-4455-b605-d695567ec6dc",
   "metadata": {},
   "outputs": [],
   "source": [
    "gym.describe()"
   ]
  },
  {
   "cell_type": "markdown",
   "id": "b7f08fdf-5535-48a3-87df-32a66f279f51",
   "metadata": {},
   "source": [
    "## Select a specific column"
   ]
  },
  {
   "cell_type": "code",
   "execution_count": null,
   "id": "efa961b2-4616-41c1-af02-7fbbd527b2eb",
   "metadata": {},
   "outputs": [],
   "source": [
    "gym['Age']"
   ]
  },
  {
   "cell_type": "code",
   "execution_count": null,
   "id": "9057de25-7f67-4597-af5d-1ce80a61dce6",
   "metadata": {},
   "outputs": [],
   "source": [
    "gym[['Age','Fat_Percentage']]"
   ]
  },
  {
   "cell_type": "code",
   "execution_count": null,
   "id": "b4d11135-ac61-4e0c-8439-586be28cbb01",
   "metadata": {},
   "outputs": [],
   "source": [
    "gym.loc[:,'Age']"
   ]
  },
  {
   "cell_type": "code",
   "execution_count": null,
   "id": "eca34611-0b98-4236-8571-934d6edf5a58",
   "metadata": {},
   "outputs": [],
   "source": [
    "gym.iloc[:,1]"
   ]
  },
  {
   "cell_type": "code",
   "execution_count": null,
   "id": "f4a582e3-956d-4a55-a17f-bf82df975b6a",
   "metadata": {},
   "outputs": [],
   "source": [
    "gym['Age'].describe()"
   ]
  },
  {
   "cell_type": "code",
   "execution_count": null,
   "id": "a1fdc401-0b19-49b2-93e6-fc8cec0b6682",
   "metadata": {},
   "outputs": [],
   "source": [
    "gym[['Age']] # ---> dataframe as type"
   ]
  },
  {
   "cell_type": "markdown",
   "id": "b8bbd045-426c-44f4-956a-5406aceeab81",
   "metadata": {},
   "source": [
    "##### -----------------> Mentimiter"
   ]
  },
  {
   "cell_type": "markdown",
   "id": "e5d99bf5-6d63-48ad-a5f9-47fc4b8feb10",
   "metadata": {},
   "source": [
    "### Sort a column"
   ]
  },
  {
   "cell_type": "code",
   "execution_count": null,
   "id": "067b6117-6bfb-4941-9fb9-455c9394f2e3",
   "metadata": {},
   "outputs": [],
   "source": [
    "gym.sort_values(gym.columns[3])"
   ]
  },
  {
   "cell_type": "markdown",
   "id": "ac773d7d-d069-4138-afe2-18d1735d4eb2",
   "metadata": {},
   "source": [
    "##### -----------------> Mentimiter"
   ]
  },
  {
   "cell_type": "code",
   "execution_count": null,
   "id": "89463371-0428-4369-861a-4ff8a95df829",
   "metadata": {},
   "outputs": [],
   "source": [
    "gym.sort_values(['Height (m)','Weight (kg)'], ascending=[False,True])"
   ]
  },
  {
   "cell_type": "markdown",
   "id": "f9d84f3e-2617-4a91-8c1a-4f030469f073",
   "metadata": {},
   "source": [
    "## Select a row"
   ]
  },
  {
   "cell_type": "code",
   "execution_count": null,
   "id": "c48435ba-b1fc-43dc-8097-3b4fa33f8bd1",
   "metadata": {},
   "outputs": [],
   "source": [
    "gym.iloc[0,:]"
   ]
  },
  {
   "cell_type": "code",
   "execution_count": null,
   "id": "0d98020b-8699-428f-b69d-67bf44c075df",
   "metadata": {},
   "outputs": [],
   "source": [
    "gym[gym['Age'] == 28]"
   ]
  },
  {
   "cell_type": "markdown",
   "id": "94622e1c-22b5-4679-8bed-a0ff5024c1f9",
   "metadata": {},
   "source": [
    "## Subsetting based on multiple conditions"
   ]
  },
  {
   "cell_type": "code",
   "execution_count": null,
   "id": "c0869c25-06b8-47af-8a2d-d1a1f041774d",
   "metadata": {},
   "outputs": [],
   "source": [
    "cond1 = gym['Age'] == 18"
   ]
  },
  {
   "cell_type": "code",
   "execution_count": null,
   "id": "d8bbd4ad-3745-42ed-a062-c45180bc092b",
   "metadata": {},
   "outputs": [],
   "source": [
    "cond2 = gym['Gender'] == 'Male'"
   ]
  },
  {
   "cell_type": "code",
   "execution_count": null,
   "id": "3bc5a3cc-edfa-4f0e-b78f-8fdf8a8f8837",
   "metadata": {},
   "outputs": [],
   "source": [
    "cond3 = gym['Height (m)'] > 1.80"
   ]
  },
  {
   "cell_type": "code",
   "execution_count": null,
   "id": "4725d5b7-852f-4289-bb2e-e8462ce63001",
   "metadata": {},
   "outputs": [],
   "source": [
    "gym[cond1 & cond2 & cond3]"
   ]
  },
  {
   "cell_type": "code",
   "execution_count": null,
   "id": "e6cdb1e7-b8bf-4da1-b146-8cf2ebaac76f",
   "metadata": {},
   "outputs": [],
   "source": [
    "ismale = gym['Gender'].isin(['Male'])"
   ]
  },
  {
   "cell_type": "code",
   "execution_count": null,
   "id": "0ba575cc-0334-4749-a764-b7ec10fa9660",
   "metadata": {},
   "outputs": [],
   "source": [
    "gymmale = gym[ismale]"
   ]
  },
  {
   "cell_type": "markdown",
   "id": "8888a962-f8ce-4054-a772-7552477a200a",
   "metadata": {},
   "source": [
    "##### -----------------> Mentimiter"
   ]
  },
  {
   "cell_type": "markdown",
   "id": "76055bfb-6e6f-4f06-aba8-dabd07e850db",
   "metadata": {},
   "source": [
    "## Adding columns"
   ]
  },
  {
   "cell_type": "code",
   "execution_count": null,
   "id": "0c454669-2fb3-4e0d-b8a6-1a93cb285a03",
   "metadata": {},
   "outputs": [],
   "source": [
    "gym['Burned_by_duration'] = gym['Calories_Burned'] / gym['Session_Duration (hours)']"
   ]
  },
  {
   "cell_type": "code",
   "execution_count": null,
   "id": "87660eeb-6136-4d8f-a6eb-139dbfa16672",
   "metadata": {},
   "outputs": [],
   "source": [
    "gym"
   ]
  },
  {
   "cell_type": "markdown",
   "id": "130b3b26-94b0-422a-a79d-5aee86a55df2",
   "metadata": {},
   "source": [
    "## Column satistics"
   ]
  },
  {
   "cell_type": "markdown",
   "id": "69c67330-e1d8-41fc-b6fd-1caea088047e",
   "metadata": {},
   "source": [
    "### Simple statistics"
   ]
  },
  {
   "cell_type": "code",
   "execution_count": null,
   "id": "c267553f-33e8-4424-98fb-921cfce0acd4",
   "metadata": {},
   "outputs": [],
   "source": [
    "gym.Age.mean()"
   ]
  },
  {
   "cell_type": "code",
   "execution_count": null,
   "id": "3300dd7b-550c-458b-9d33-6c5a03657998",
   "metadata": {},
   "outputs": [],
   "source": [
    "numeric_columns = gym.select_dtypes(include=['number']).columns\n",
    "gym[numeric_columns].mean()"
   ]
  },
  {
   "cell_type": "markdown",
   "id": "cdb0edad-04d8-43fe-9c94-e087218f00fb",
   "metadata": {},
   "source": [
    "#### Count occurrencies"
   ]
  },
  {
   "cell_type": "code",
   "execution_count": null,
   "id": "e12beb13-671f-4e0e-9ba2-50af82165381",
   "metadata": {},
   "outputs": [],
   "source": [
    "gym['Gender'].value_counts()"
   ]
  },
  {
   "cell_type": "code",
   "execution_count": null,
   "id": "42f7f314-6b46-4051-b427-4030897c0af7",
   "metadata": {},
   "outputs": [],
   "source": [
    "male = gym['Gender'] == 'Male'"
   ]
  },
  {
   "cell_type": "code",
   "execution_count": null,
   "id": "c8acc1c0-85df-41e9-a9a1-25a3e42eba6c",
   "metadata": {},
   "outputs": [],
   "source": [
    "gym[male]['Workout_Type'].value_counts(normalize=True)"
   ]
  },
  {
   "cell_type": "markdown",
   "id": "2aaef3b9-b982-4526-8528-0b8d3e86461e",
   "metadata": {},
   "source": [
    "### Powerful and flexible aggregation method .agg() "
   ]
  },
  {
   "cell_type": "markdown",
   "id": "611233a4-5e84-4c4f-b9f9-4ca0ffac1f9d",
   "metadata": {},
   "source": [
    "Togheter with the usual statistic methods .mean() .min() .max()"
   ]
  },
  {
   "cell_type": "markdown",
   "id": "fe5b3b3b-2b15-4644-b360-c68f58b679f6",
   "metadata": {},
   "source": [
    "#### Apply multiple functions at once"
   ]
  },
  {
   "cell_type": "code",
   "execution_count": null,
   "id": "fe4a99f4-9d90-40e6-b720-1e8691644a55",
   "metadata": {},
   "outputs": [],
   "source": [
    "stats = ['mean','sum','min','max']"
   ]
  },
  {
   "cell_type": "code",
   "execution_count": null,
   "id": "873e3909-183d-49f3-a302-f9c735b17136",
   "metadata": {},
   "outputs": [],
   "source": [
    "gym['Calories_Burned'].agg(stats)"
   ]
  },
  {
   "cell_type": "markdown",
   "id": "2be97684-215a-4237-9f32-db47bf013d44",
   "metadata": {},
   "source": [
    "#### Apply multiple functions to multiple columns"
   ]
  },
  {
   "cell_type": "code",
   "execution_count": null,
   "id": "9cce8a22-4bc3-4440-8b83-835c611b5eed",
   "metadata": {},
   "outputs": [],
   "source": [
    "stats = ['mean','sum','min','max']"
   ]
  },
  {
   "cell_type": "code",
   "execution_count": null,
   "id": "c9b78b86-5967-4e27-85dd-b8e10e8e42e4",
   "metadata": {},
   "outputs": [],
   "source": [
    "columns = ['Calories_Burned', 'Fat_Percentage']"
   ]
  },
  {
   "cell_type": "code",
   "execution_count": null,
   "id": "6b5fdc27-bfaf-4f61-a67e-e6ec27579070",
   "metadata": {},
   "outputs": [],
   "source": [
    "gym[columns].agg(stats)"
   ]
  },
  {
   "cell_type": "markdown",
   "id": "71ba68c9-8a25-4e14-bc10-d810a8cd58ce",
   "metadata": {},
   "source": [
    "#### Custom functions"
   ]
  },
  {
   "cell_type": "code",
   "execution_count": null,
   "id": "a5e5949b-1e7b-47fc-b2a4-a02b04f43030",
   "metadata": {},
   "outputs": [],
   "source": [
    "rangefun = lambda x: x.max() - x.min()"
   ]
  },
  {
   "cell_type": "code",
   "execution_count": null,
   "id": "621b8f44-0305-4565-9169-05d85b32b21b",
   "metadata": {},
   "outputs": [],
   "source": [
    "gym['Calories_Burned'].agg(rangefun)"
   ]
  },
  {
   "cell_type": "markdown",
   "id": "09d8be03-6e70-4af3-b314-f85b4a1e6fa9",
   "metadata": {},
   "source": [
    "#### Different functions to different columns"
   ]
  },
  {
   "cell_type": "code",
   "execution_count": null,
   "id": "0e59ead1-3622-48f1-8a10-bf5e94de2c0e",
   "metadata": {},
   "outputs": [],
   "source": [
    "functions = {'Calories_Burned':'mean', 'Fat_Percentage':'max'}"
   ]
  },
  {
   "cell_type": "code",
   "execution_count": null,
   "id": "b24a94b4-7ab3-4e71-8208-127ba877e918",
   "metadata": {},
   "outputs": [],
   "source": [
    "gym.agg(functions)"
   ]
  },
  {
   "cell_type": "code",
   "execution_count": null,
   "id": "240fd99c-285b-49dc-bcc9-131ef0ca3716",
   "metadata": {},
   "outputs": [],
   "source": [
    "gym.agg(Mean_Calories = ('Calories_Burned', 'mean'), Max_Fat = ('Fat_Percentage', 'max'))"
   ]
  },
  {
   "cell_type": "code",
   "execution_count": null,
   "id": "90093fe9-9b13-409c-99dd-d79204b70faa",
   "metadata": {},
   "outputs": [],
   "source": [
    "functions = {'Mean_calories':('Calories_Burned','mean'),\n",
    "             'Max_Flat':('Fat_Percentage','max')}"
   ]
  },
  {
   "cell_type": "code",
   "execution_count": null,
   "id": "1faf309f-c2dd-45c0-a00a-25e600d3c878",
   "metadata": {},
   "outputs": [],
   "source": [
    "gym.agg(**functions) "
   ]
  },
  {
   "cell_type": "markdown",
   "id": "2a64b89f-26c8-4b74-917d-65f967e4570f",
   "metadata": {},
   "source": [
    "The ** operator \"unpacks\" the 'functions' dictionary, this means that the keys and values of the dictionary are passed as keyword arguments to the .agg() function."
   ]
  },
  {
   "cell_type": "markdown",
   "id": "6cde8408-d78f-4984-9d00-eb9e6aba7b63",
   "metadata": {},
   "source": [
    "## GroupBy"
   ]
  },
  {
   "cell_type": "code",
   "execution_count": null,
   "id": "e9853b59-2581-46f2-bd8a-4f266c471bda",
   "metadata": {},
   "outputs": [],
   "source": [
    "numeric_columns = gym.select_dtypes(include=['number']).columns\n",
    "gym.groupby(['Workout_Type'])[numeric_columns].mean()"
   ]
  },
  {
   "cell_type": "code",
   "execution_count": null,
   "id": "bb8975bf-e1b8-4c1b-b0b8-ae4b5ff69ebb",
   "metadata": {},
   "outputs": [],
   "source": [
    "gymc = gym.iloc[:,[0,4,5,6,12]]"
   ]
  },
  {
   "cell_type": "code",
   "execution_count": null,
   "id": "778fc194-0544-459f-9e1e-eb02bce814f5",
   "metadata": {},
   "outputs": [],
   "source": [
    "gymc = gymc.copy()"
   ]
  },
  {
   "cell_type": "code",
   "execution_count": null,
   "id": "b7f02ff0-6518-400e-a6ac-4b49c1a1a9ce",
   "metadata": {},
   "outputs": [],
   "source": [
    "gymc.head(1)"
   ]
  },
  {
   "cell_type": "code",
   "execution_count": null,
   "id": "7c9b6052-47c7-4e34-bb2c-f212d7fdb7e4",
   "metadata": {},
   "outputs": [],
   "source": [
    "# Define the limits\n",
    "bins = [49, 56, 62, 68, 74]\n",
    "bins1 = [17, 29, 39, 49, 59]\n",
    "\n",
    "# Define labels\n",
    "labels = ['50-56','57-62','63-68','69-74']\n",
    "labels1 = ['18-29', '30-39', '40-49', '50-59']\n",
    "\n",
    "\n",
    "# Use the function cut to create the new columns\n",
    "gymc.loc[:,'BeatsRest_Class'] = pd.cut(gymc.loc[:,'Resting_BPM'], bins=bins, labels=labels, right=True) \n",
    "# right=True means closed to the right open to the left\n",
    "gymc.loc[:,'Age_Class'] = pd.cut(gymc.loc[:,'Age'], bins=bins1, labels=labels1, right=True)"
   ]
  },
  {
   "cell_type": "code",
   "execution_count": null,
   "id": "63ec8631-81a2-4564-8e05-3559ff0c4ee4",
   "metadata": {},
   "outputs": [],
   "source": [
    "gymc.head(3)"
   ]
  },
  {
   "cell_type": "code",
   "execution_count": null,
   "id": "ef47357f-c82a-4e51-aff8-a0b5e6444756",
   "metadata": {},
   "outputs": [],
   "source": [
    "numeric_columns = gymc.select_dtypes(include=['number']).columns\n",
    "gymc.groupby(['Age_Class', 'BeatsRest_Class'],observed=True)[numeric_columns].mean()"
   ]
  },
  {
   "cell_type": "markdown",
   "id": "436318f5-224f-40e2-8d89-9e2bb6c180a3",
   "metadata": {},
   "source": [
    "##### -----------------> Mentimiter"
   ]
  },
  {
   "cell_type": "markdown",
   "id": "b3cf640f-f352-449b-a7b5-c85b353e3e6a",
   "metadata": {},
   "source": [
    "## Pivot tables"
   ]
  },
  {
   "cell_type": "code",
   "execution_count": null,
   "id": "6d4f9648-c926-4bdc-9bbf-693e965f429b",
   "metadata": {},
   "outputs": [],
   "source": [
    "gym.pivot_table(values='Age', index='Workout_Type')"
   ]
  },
  {
   "cell_type": "code",
   "execution_count": null,
   "id": "c667d50d-3ec1-45df-b9ae-4ad10b55e124",
   "metadata": {},
   "outputs": [],
   "source": [
    "rangefun = lambda x: str(x.min()) + ' - ' + str(x.max())\n",
    "rangefun.__name__ = 'Range'"
   ]
  },
  {
   "cell_type": "code",
   "execution_count": null,
   "id": "01657053-d49f-41a8-a511-b177215a1168",
   "metadata": {},
   "outputs": [],
   "source": [
    "meanmed = lambda x: str(x.mean()) + ' - ' + str(x.median())\n",
    "meanmed.__name__ = 'Mean - Median'"
   ]
  },
  {
   "cell_type": "code",
   "execution_count": null,
   "id": "2614e4cc-bcb0-493b-ad57-78f83e5f76be",
   "metadata": {},
   "outputs": [],
   "source": [
    "gym.pivot_table(values='Calories_Burned', index='Workout_Type', aggfunc=[rangefun,meanmed])"
   ]
  },
  {
   "cell_type": "markdown",
   "id": "d25b4dda-7586-4f5b-971d-f35adca79f7a",
   "metadata": {},
   "source": [
    "Using Groupby"
   ]
  },
  {
   "cell_type": "code",
   "execution_count": null,
   "id": "221e9701-8b6b-4172-b230-8559bc5a3afd",
   "metadata": {},
   "outputs": [],
   "source": [
    "gym.groupby(['Workout_Type'])['Calories_Burned'].agg(['min','max'])"
   ]
  },
  {
   "cell_type": "code",
   "execution_count": null,
   "id": "057bb5d7-3aaf-43d3-9248-a5326c21b1ac",
   "metadata": {},
   "outputs": [],
   "source": [
    "gym.pivot_table(values='Calories_Burned', index='Workout_Type',columns='Experience_Level')"
   ]
  },
  {
   "cell_type": "code",
   "execution_count": null,
   "id": "357e7679-1f1a-4c1c-a408-8c949b07423c",
   "metadata": {},
   "outputs": [],
   "source": [
    "gym.pivot_table(values='Calories_Burned', index='Workout_Type',columns='Experience_Level', margins=True)"
   ]
  },
  {
   "cell_type": "code",
   "execution_count": null,
   "id": "d08da8a9-c28f-4a3e-9457-6d12f54d7aef",
   "metadata": {},
   "outputs": [],
   "source": [
    "gym.pivot_table(values='Burned_by_duration', index='Workout_Type',columns='Experience_Level')"
   ]
  },
  {
   "cell_type": "markdown",
   "id": "7146b5fa-3c71-4cb2-9f77-c38008501108",
   "metadata": {},
   "source": [
    "## Working with indexes"
   ]
  },
  {
   "cell_type": "code",
   "execution_count": null,
   "id": "6ce74633-0c32-457b-9606-082d7cb488a9",
   "metadata": {},
   "outputs": [],
   "source": [
    "gym.set_index('Workout_Type')"
   ]
  },
  {
   "cell_type": "markdown",
   "id": "c7d748a1-7cb3-4b36-a0d2-0dd00f87b7b4",
   "metadata": {},
   "source": [
    "Simpler to subset"
   ]
  },
  {
   "cell_type": "code",
   "execution_count": null,
   "id": "b7cd5225-c634-48df-8eae-f3d198c6d50c",
   "metadata": {},
   "outputs": [],
   "source": [
    "gym.set_index('Workout_Type').loc['Yoga']"
   ]
  },
  {
   "cell_type": "code",
   "execution_count": null,
   "id": "524f1698-175f-4f5e-ae16-241c2bc31571",
   "metadata": {},
   "outputs": [],
   "source": [
    "gym.set_index(['Workout_Type','Age']).loc[['Yoga','HIIT']].sort_index(level=[\"Workout_Type\", \"Age\"], ascending=[True, False])"
   ]
  },
  {
   "cell_type": "code",
   "execution_count": null,
   "id": "1707a00d-f0d1-481b-af31-abb3e17803ab",
   "metadata": {},
   "outputs": [],
   "source": [
    "gym.columns"
   ]
  },
  {
   "cell_type": "code",
   "execution_count": null,
   "id": "44003871-fa80-490c-b42c-3a6540120021",
   "metadata": {},
   "outputs": [],
   "source": [
    "gym.set_index(['Workout_Type','Age']).loc[[('Yoga',20),('HIIT',30)],'Weight (kg)':'Resting_BPM'] # --> NOTE:Resting_BPM included"
   ]
  },
  {
   "cell_type": "code",
   "execution_count": null,
   "id": "dc60c359-ad96-4b16-be5d-c2fd4cbffbde",
   "metadata": {},
   "outputs": [],
   "source": [
    "gym.pivot_table('Fat_Percentage',index='Workout_Type',columns='Experience_Level')"
   ]
  },
  {
   "cell_type": "code",
   "execution_count": null,
   "id": "7f19658e-a630-4a5b-b36a-9ca6ef767dee",
   "metadata": {},
   "outputs": [],
   "source": [
    "gym.pivot_table('Fat_Percentage',index='Workout_Type',columns='Experience_Level').loc['Cardio':'Strength']"
   ]
  },
  {
   "cell_type": "code",
   "execution_count": null,
   "id": "6f70c070-41eb-495b-abbb-8305192ab82c",
   "metadata": {},
   "outputs": [],
   "source": [
    "gym.pivot_table('Fat_Percentage',index='Workout_Type',columns='Experience_Level').mean(axis='index')"
   ]
  },
  {
   "cell_type": "code",
   "execution_count": null,
   "id": "baf9d0fc-fdcd-4b11-9cbe-061c9d3fb2c6",
   "metadata": {},
   "outputs": [],
   "source": [
    "gym.pivot_table('Fat_Percentage',index='Workout_Type',columns='Experience_Level').mean(axis='columns')"
   ]
  },
  {
   "cell_type": "markdown",
   "id": "1519fa4f-2f4b-4996-a78e-39342d48d4db",
   "metadata": {},
   "source": [
    "## Working with missing values"
   ]
  },
  {
   "cell_type": "code",
   "execution_count": null,
   "id": "24802d5b-6c7e-4554-9462-4f9641942e98",
   "metadata": {},
   "outputs": [],
   "source": [
    "gymfiltered = gym.filter(like='BPM').iloc[1:20].copy()"
   ]
  },
  {
   "cell_type": "code",
   "execution_count": null,
   "id": "c67fc582-fed1-4784-a622-5a2407b8dbcf",
   "metadata": {},
   "outputs": [],
   "source": [
    "import random\n",
    "import numpy as np\n",
    "\n",
    "# Numero di NaN da inserire\n",
    "n_nan = 10\n",
    "\n",
    "# Ottieni gli indici delle righe e delle colonne\n",
    "rows = gymfiltered.index\n",
    "cols = gymfiltered.columns\n",
    "\n",
    "# Genera una lista di tuple (riga, colonna) casuali\n",
    "random_indices = random.sample([(r, c) for r in rows for c in cols], n_nan)\n",
    "\n",
    "# Inserisci NaN nelle posizioni casuali\n",
    "for r, c in random_indices:\n",
    "    gymfiltered.loc[r, c] = np.nan\n",
    "\n",
    "gymfiltered"
   ]
  },
  {
   "cell_type": "code",
   "execution_count": null,
   "id": "f4112c51-7bff-4b35-9b35-497a3b80c777",
   "metadata": {},
   "outputs": [],
   "source": [
    "gymfiltered.isna().sum()"
   ]
  },
  {
   "cell_type": "code",
   "execution_count": null,
   "id": "afb86a44-1731-4f40-96d2-262bb5122579",
   "metadata": {},
   "outputs": [],
   "source": [
    "gymfiltered.dropna().isna().sum()"
   ]
  },
  {
   "cell_type": "code",
   "execution_count": null,
   "id": "6dd7306a-54c6-49df-8b05-4c46f56e6515",
   "metadata": {},
   "outputs": [],
   "source": [
    "gymfiltered.fillna(0)"
   ]
  },
  {
   "cell_type": "markdown",
   "id": "aacd8bec-8580-414c-a301-9ead7106bdb4",
   "metadata": {},
   "source": [
    "<span style=\"background-color:yellow;\">Be carefull!</span>"
   ]
  },
  {
   "cell_type": "code",
   "execution_count": null,
   "id": "526d339e-cdff-4174-a616-4dbe1eb5f559",
   "metadata": {},
   "outputs": [],
   "source": [
    "gymfiltered.isna().sum()"
   ]
  },
  {
   "cell_type": "code",
   "execution_count": null,
   "id": "cd0be64f-289f-4134-a3a3-bb676400e5c8",
   "metadata": {},
   "outputs": [],
   "source": [
    "gymfiltered.dropna(inplace=True)"
   ]
  },
  {
   "cell_type": "code",
   "execution_count": null,
   "id": "243da973-eb3a-44f3-8af2-44c9ffaf0cb8",
   "metadata": {},
   "outputs": [],
   "source": [
    "gymfiltered.isna().sum()"
   ]
  },
  {
   "cell_type": "code",
   "execution_count": null,
   "id": "e8440763-357d-48f8-9c4d-71f40428e149",
   "metadata": {},
   "outputs": [],
   "source": [
    "gymfiltered"
   ]
  },
  {
   "cell_type": "markdown",
   "id": "7d6accfa-6eee-4e0b-adf8-fc2a3a5c6162",
   "metadata": {},
   "source": [
    "#### Saving to csv"
   ]
  },
  {
   "cell_type": "code",
   "execution_count": null,
   "id": "78e8a259-0975-4009-9335-39ff0cf29510",
   "metadata": {},
   "outputs": [],
   "source": [
    "gymfiltered.to_csv('gymfiltered.csv')"
   ]
  },
  {
   "cell_type": "markdown",
   "id": "0fa9a10c-c541-4ad5-91b6-7ca3831ba50b",
   "metadata": {},
   "source": [
    "## Plotting"
   ]
  },
  {
   "cell_type": "code",
   "execution_count": null,
   "id": "7bf0901b-1f85-4193-b0c6-31649edaa6ef",
   "metadata": {},
   "outputs": [],
   "source": [
    "import matplotlib.pyplot as plt"
   ]
  },
  {
   "cell_type": "code",
   "execution_count": null,
   "id": "efdb3218-21bb-4633-a5c1-238afb8b945a",
   "metadata": {},
   "outputs": [],
   "source": [
    "gym['Age'].hist(bins=15)"
   ]
  },
  {
   "cell_type": "code",
   "execution_count": null,
   "id": "d33c7e4b-f581-43b6-9b6c-13adffbf0d93",
   "metadata": {},
   "outputs": [],
   "source": [
    "gym.columns"
   ]
  },
  {
   "cell_type": "code",
   "execution_count": null,
   "id": "f655a571-40ce-4afc-a49e-e358af16b0f1",
   "metadata": {},
   "outputs": [],
   "source": [
    "gym.groupby('Workout_Type')['BMI'].mean().plot(kind='bar')"
   ]
  },
  {
   "cell_type": "code",
   "execution_count": null,
   "id": "d0064e9f-df2a-4bef-9cc4-51f013c70f14",
   "metadata": {},
   "outputs": [],
   "source": [
    "gym[gym[\"Gender\"]==\"Female\"][\"Weight (kg)\"].hist(alpha=0.7,color='red')\n",
    "gym[gym[\"Gender\"]==\"Male\"][\"Weight (kg)\"].hist(alpha=0.7,color='blue')\n",
    "plt.legend([\"Female\", \"Male\"])"
   ]
  },
  {
   "cell_type": "code",
   "execution_count": null,
   "id": "d99bca01-41de-49e6-be42-59cfa423516f",
   "metadata": {},
   "outputs": [],
   "source": [
    "# Calcolo delle frequenze di 'Workout_Type' raggruppate per 'Gender'\n",
    "grouped_data = gym.groupby(['Workout_Type', 'Gender']).size().unstack()\n",
    "\n",
    "# Imposta la figura\n",
    "plt.figure(figsize=(12, 6))\n",
    "\n",
    "# Creazione del grafico a barre\n",
    "x_labels = grouped_data.index\n",
    "x = range(len(x_labels))\n",
    "bar_width = 0.35\n",
    "\n",
    "# Disegna le barre per ciascun genere\n",
    "for i, gender in enumerate(grouped_data.columns):\n",
    "    plt.bar(\n",
    "        [pos + i * bar_width for pos in x],\n",
    "        grouped_data[gender],\n",
    "        width=bar_width,\n",
    "        label=gender\n",
    "    )\n",
    "\n",
    "# Etichette e titolo\n",
    "plt.xticks([pos + bar_width / 2 for pos in x], x_labels)\n",
    "plt.title('Workout Type by Gender')\n",
    "plt.xlabel('Workout Type')\n",
    "plt.ylabel('Count')\n",
    "plt.legend(title='Gender')\n",
    "\n",
    "# Mostra il grafico\n",
    "plt.tight_layout()\n",
    "plt.show()"
   ]
  },
  {
   "cell_type": "code",
   "execution_count": null,
   "id": "6b519b9e-be86-4f4d-94b6-c3d7d3803884",
   "metadata": {},
   "outputs": [],
   "source": [
    "import matplotlib.pyplot as plt\n",
    "\n",
    "# Calcolo delle frequenze di 'Workout_Type' raggruppate per 'Gender'\n",
    "grouped_data = gym.groupby(['Workout_Type', 'Gender']).size().unstack()\n",
    "\n",
    "# Imposta la figura\n",
    "plt.figure(figsize=(12, 6))\n",
    "\n",
    "# Creazione del grafico a barre\n",
    "grouped_data.plot(kind='bar', width=0.8, ax=plt.gca())  # Usa direttamente Pandas per il grafico a barre\n",
    "\n",
    "# Etichette e titolo\n",
    "plt.title('Workout Type by Gender')\n",
    "plt.xlabel('Workout Type')\n",
    "plt.ylabel('Count')\n",
    "plt.legend(title='Gender')\n",
    "\n",
    "# Mostra il grafico\n",
    "plt.tight_layout()\n",
    "plt.show()"
   ]
  },
  {
   "cell_type": "code",
   "execution_count": null,
   "id": "86f19eda-c9f0-4e8e-916e-4ffb76fee9e4",
   "metadata": {},
   "outputs": [],
   "source": [
    "import matplotlib.pyplot as plt\n",
    "import numpy as np\n",
    "\n",
    "# Dati da plottare\n",
    "x = gym['Session_Duration (hours)']\n",
    "y = gym['Calories_Burned']\n",
    "\n",
    "# Calcolo della linea di regressione\n",
    "coefficients = np.polyfit(x, y, deg=1)  # Regressione lineare\n",
    "regression_line = np.poly1d(coefficients)\n",
    "\n",
    "# Imposta la figura\n",
    "plt.figure(figsize=(12, 6))\n",
    "\n",
    "# Scatter plot (punti dati)\n",
    "plt.scatter(x, y, color='blue', alpha=0.7, label='Data points')\n",
    "\n",
    "# Linea di regressione\n",
    "x_vals = np.linspace(x.min(), x.max(), 100)\n",
    "plt.plot(x_vals, regression_line(x_vals), color='red', label='Regression line')\n",
    "\n",
    "# Titolo e etichette\n",
    "plt.title('Calories Burned by Session Duration')\n",
    "plt.xlabel('Session Duration (hours)')\n",
    "plt.ylabel('Calories Burned')\n",
    "plt.legend()\n",
    "\n",
    "# Mostra il grafico\n",
    "plt.tight_layout()\n",
    "plt.show()\n"
   ]
  },
  {
   "cell_type": "markdown",
   "id": "6ead0013-8acc-4b03-b08f-364aa876409f",
   "metadata": {},
   "source": [
    "##### -----------------> Mentimiter"
   ]
  }
 ],
 "metadata": {
  "kernelspec": {
   "display_name": "Python 3 (ipykernel)",
   "language": "python",
   "name": "python3"
  },
  "language_info": {
   "codemirror_mode": {
    "name": "ipython",
    "version": 3
   },
   "file_extension": ".py",
   "mimetype": "text/x-python",
   "name": "python",
   "nbconvert_exporter": "python",
   "pygments_lexer": "ipython3",
   "version": "3.13.0"
  }
 },
 "nbformat": 4,
 "nbformat_minor": 5
}
