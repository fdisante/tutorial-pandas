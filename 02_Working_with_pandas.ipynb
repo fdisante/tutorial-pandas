{
 "cells": [
  {
   "cell_type": "markdown",
   "id": "1486c484",
   "metadata": {
    "slideshow": {
     "slide_type": "slide"
    }
   },
   "source": [
    "## Working_with_pandas"
   ]
  },
  {
   "cell_type": "markdown",
   "id": "8964aed2",
   "metadata": {
    "slideshow": {
     "slide_type": "slide"
    }
   },
   "source": [
    "In this last part we will see how to store Netcdf timeseries data into pandas dataframe"
   ]
  },
  {
   "cell_type": "code",
   "execution_count": null,
   "id": "14b275a5",
   "metadata": {
    "slideshow": {
     "slide_type": "-"
    }
   },
   "outputs": [],
   "source": [
    "import matplotlib.pyplot as plt\n",
    "import xarray as xr\n",
    "import pandas as pd"
   ]
  },
  {
   "cell_type": "code",
   "execution_count": null,
   "id": "f6f297a3",
   "metadata": {},
   "outputs": [],
   "source": [
    "ds = xr.open_dataset('data/MO_LATEST_TS_MO_ADN-MAMBO1_20210405.nc')"
   ]
  },
  {
   "cell_type": "markdown",
   "id": "40e109ce",
   "metadata": {
    "slideshow": {
     "slide_type": "slide"
    }
   },
   "source": [
    "Take a look at our dataset:"
   ]
  },
  {
   "cell_type": "code",
   "execution_count": null,
   "id": "f486da24",
   "metadata": {},
   "outputs": [],
   "source": [
    "ds"
   ]
  },
  {
   "cell_type": "markdown",
   "id": "80c82aec",
   "metadata": {},
   "source": [
    "#### Checking the variables:"
   ]
  },
  {
   "cell_type": "code",
   "execution_count": null,
   "id": "d6aeed93",
   "metadata": {},
   "outputs": [],
   "source": [
    "ds.data_vars"
   ]
  },
  {
   "cell_type": "markdown",
   "id": "2e3c42b1",
   "metadata": {
    "slideshow": {
     "slide_type": "slide"
    }
   },
   "source": [
    "#### Here we are interested only to the meteorological variables values, so we define a subset excluding the quality check indicators.\n",
    "#### We store variable names and units in a list"
   ]
  },
  {
   "cell_type": "code",
   "execution_count": null,
   "id": "854f0a17",
   "metadata": {},
   "outputs": [],
   "source": [
    "subset = [\"DEPH\",\"WDIR\",\"WSPD\",\"DRYT\",\"ATMS\",\"RELH\",\"GSPD\",\"GDIR\",\"DOWN_IRRADIANCE\"]"
   ]
  },
  {
   "cell_type": "code",
   "execution_count": null,
   "id": "bb4a0b9a",
   "metadata": {},
   "outputs": [],
   "source": [
    "var_w_units = []\n",
    "for i in subset:\n",
    "    var_w_units.append(f\"{i} [{ds[i].units}]\")\n",
    "    \n",
    "var_w_units"
   ]
  },
  {
   "cell_type": "markdown",
   "id": "ceb72258",
   "metadata": {},
   "source": [
    "#### Now, we can use this list to store data in an empty dataframe"
   ]
  },
  {
   "cell_type": "code",
   "execution_count": null,
   "id": "c936a76a",
   "metadata": {},
   "outputs": [],
   "source": [
    "df = pd.DataFrame()\n",
    "for i in subset:\n",
    "    df[i] = ds[i][:,0].values"
   ]
  },
  {
   "cell_type": "code",
   "execution_count": null,
   "id": "29dfd47e",
   "metadata": {},
   "outputs": [],
   "source": [
    "var_w_units"
   ]
  },
  {
   "cell_type": "code",
   "execution_count": null,
   "id": "44b2f9dd",
   "metadata": {},
   "outputs": [],
   "source": [
    "ds[\"TIME\"].values"
   ]
  },
  {
   "cell_type": "code",
   "execution_count": null,
   "id": "9b107f62",
   "metadata": {},
   "outputs": [],
   "source": [
    "df.columns = var_w_units\n",
    "df[\"TIME\"] = ds[\"TIME\"].values"
   ]
  },
  {
   "cell_type": "code",
   "execution_count": null,
   "id": "27afeb58",
   "metadata": {},
   "outputs": [],
   "source": [
    "df.set_index(\"TIME\")"
   ]
  },
  {
   "cell_type": "code",
   "execution_count": null,
   "id": "a73c26b7",
   "metadata": {},
   "outputs": [],
   "source": [
    "df"
   ]
  },
  {
   "cell_type": "code",
   "execution_count": null,
   "id": "edcedea3",
   "metadata": {},
   "outputs": [],
   "source": [
    "df.set_index(\"TIME\",inplace=True)"
   ]
  },
  {
   "cell_type": "code",
   "execution_count": null,
   "id": "2e1c9ee4-a639-4a75-a209-30fccc15b7d2",
   "metadata": {},
   "outputs": [],
   "source": [
    "# df = df.set_index(\"TIME\")"
   ]
  },
  {
   "cell_type": "code",
   "execution_count": null,
   "id": "eeaba51a-30ca-4bc4-b52b-352a494b3c3c",
   "metadata": {},
   "outputs": [],
   "source": [
    "df"
   ]
  },
  {
   "cell_type": "code",
   "execution_count": null,
   "id": "a1b12042",
   "metadata": {},
   "outputs": [],
   "source": [
    "import datetime\n",
    "d = df.index\n",
    "d.strftime('%Y-%m-%d %H:%M')"
   ]
  },
  {
   "cell_type": "code",
   "execution_count": null,
   "id": "a858b830",
   "metadata": {},
   "outputs": [],
   "source": [
    "df.set_index(d.strftime('%Y-%m-%d %H:%M'))"
   ]
  },
  {
   "cell_type": "code",
   "execution_count": null,
   "id": "87bf9c66",
   "metadata": {},
   "outputs": [],
   "source": [
    "df.plot()"
   ]
  },
  {
   "cell_type": "code",
   "execution_count": null,
   "id": "b20ad820",
   "metadata": {},
   "outputs": [],
   "source": [
    "df.shape"
   ]
  },
  {
   "cell_type": "code",
   "execution_count": null,
   "id": "e163d1b8",
   "metadata": {},
   "outputs": [],
   "source": [
    "df.columns"
   ]
  },
  {
   "cell_type": "code",
   "execution_count": null,
   "id": "bb41b510",
   "metadata": {},
   "outputs": [],
   "source": [
    "from random import randint\n",
    "random_color=\"#\" + f\"{randint(0, 0xFFFFFF):06x}\"\n",
    "df.plot.scatter(x='WSPD [m s-1]',y='GSPD [m s-1]', c=random_color)"
   ]
  },
  {
   "cell_type": "code",
   "execution_count": null,
   "id": "a20f46b4",
   "metadata": {},
   "outputs": [],
   "source": [
    "df.columns[1]"
   ]
  },
  {
   "cell_type": "code",
   "execution_count": null,
   "id": "c2751941",
   "metadata": {},
   "outputs": [],
   "source": [
    "df.plot(y=df.columns[1],colormap='viridis')\n"
   ]
  },
  {
   "cell_type": "code",
   "execution_count": null,
   "id": "961b04dc",
   "metadata": {},
   "outputs": [],
   "source": [
    "import matplotlib as mpl"
   ]
  },
  {
   "cell_type": "code",
   "execution_count": null,
   "id": "eeedbb34",
   "metadata": {},
   "outputs": [],
   "source": [
    "mpl.cm.Set1"
   ]
  },
  {
   "cell_type": "code",
   "execution_count": null,
   "id": "1585605f",
   "metadata": {},
   "outputs": [],
   "source": [
    "mpl.colors.to_rgba(mpl.cm.Accent(1))"
   ]
  },
  {
   "cell_type": "code",
   "execution_count": null,
   "id": "772849e0",
   "metadata": {},
   "outputs": [],
   "source": [
    "import matplotlib as mpl\n",
    "fig1 = plt.figure(figsize=(30, 30))\n",
    "\n",
    "ax11 = fig1.add_subplot(331); ax12 = fig1.add_subplot(332); ax13 = fig1.add_subplot(333)\n",
    "ax21 = fig1.add_subplot(334); ax22 = fig1.add_subplot(335); ax23 = fig1.add_subplot(336)\n",
    "ax31 = fig1.add_subplot(337); ax32 = fig1.add_subplot(338); ax33 = fig1.add_subplot(339)\n",
    "counter = 0\n",
    "for axes in [ax11, ax12, ax13, ax21, ax22, ax23, ax31, ax32, ax33]:\n",
    "    df.plot(y=df.columns[counter],color=mpl.colors.to_rgba(mpl.cm.Set1(counter)), ax=axes)\n",
    "    counter = counter+1\n",
    "    "
   ]
  },
  {
   "cell_type": "code",
   "execution_count": null,
   "id": "69d057b2",
   "metadata": {},
   "outputs": [],
   "source": [
    "import plotly.express as px"
   ]
  },
  {
   "cell_type": "code",
   "execution_count": null,
   "id": "9b111ab2",
   "metadata": {},
   "outputs": [],
   "source": [
    "fig = px.scatter(df, x='WSPD [m s-1]',y='GSPD [m s-1]',\n",
    "                 marginal_y=\"violin\", marginal_x=\"box\", template=\"simple_white\"\n",
    "                )\n",
    "fig.show()"
   ]
  }
 ],
 "metadata": {
  "celltoolbar": "Slideshow",
  "kernelspec": {
   "display_name": "Python 3 (ipykernel)",
   "language": "python",
   "name": "python3"
  },
  "language_info": {
   "codemirror_mode": {
    "name": "ipython",
    "version": 3
   },
   "file_extension": ".py",
   "mimetype": "text/x-python",
   "name": "python",
   "nbconvert_exporter": "python",
   "pygments_lexer": "ipython3",
   "version": "3.13.0"
  }
 },
 "nbformat": 4,
 "nbformat_minor": 5
}
